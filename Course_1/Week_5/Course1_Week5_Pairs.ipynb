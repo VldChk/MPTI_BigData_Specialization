{
 "cells": [
  {
   "cell_type": "code",
   "execution_count": 1,
   "metadata": {},
   "outputs": [],
   "source": [
    "from pyspark import SparkConf, SparkContext\n",
    "sc = SparkContext(conf=SparkConf().setAppName(\"MyApp\").setMaster(\"local\"))\n",
    "\n",
    "import re\n",
    "\n",
    "#standard function which is parsing lines into words\n",
    "\n",
    "def parse_article(line):\n",
    "    try:\n",
    "        article_id, text = unicode(line.rstrip()).split('\\t', 1)\n",
    "        text = re.sub(\"^\\W+|\\W+$\", \"\", text, flags=re.UNICODE)\n",
    "        words = re.split(\"\\W*\\s+\\W*\", text, flags=re.UNICODE)\n",
    "        return words\n",
    "    except ValueError as e:\n",
    "        return []\n",
    "\n",
    "#instead of stroing data by arcticles, I will create RDD with all words separate\n",
    "wiki_by_word = sc.textFile(\"/data/wiki/en_articles_part/articles-part\", 16).flatMap(parse_article).map(lambda word: word.lower()).cache()\n",
    "\n",
    "#creating index for all words\n",
    "wiki_with_index = wiki_by_word.zipWithIndex().cache()\n",
    "\n",
    "#filtering only those records where the word we need is coming\n",
    "filtered = wiki_with_index.filter(lambda (key,index) : key == u'narodnaya').map(lambda (key, index) : (index, key)).cache()\n",
    "\n",
    "#saving list of indexes of the next word after narodnaya for next filter operation\n",
    "ind = filtered.map(lambda (key,index): key + 1).collect()\n",
    "\n",
    "#now let's get the net word but with reduced index in order to allow join\n",
    "next_word = wiki_with_index.filter(lambda (key,index) : index in ind).map(lambda (key, index) : (index - 1, key)).cache()\n",
    "\n",
    "#joining 2 datasets: with narodnaya and with next word\n",
    "joined = filtered.join(next_word).cache()\n",
    "\n",
    "#transforming the result into concat + preparing for the next grouping\n",
    "joined_concat = joined.map(lambda (key, (val1, val2)): (val1 + '_' + val2, 1)).cache()\n",
    "\n",
    "#creating result dataset with calculated number of appeareance of the pair, but sort it into lexagraphical order\n",
    "result = joined_concat.reduceByKey(lambda a, b: a + b).sortByKey().cache()"
   ]
  },
  {
   "cell_type": "code",
   "execution_count": 2,
   "metadata": {},
   "outputs": [
    {
     "name": "stdout",
     "output_type": "stream",
     "text": [
      "narodnaya_gazeta\t1\n",
      "narodnaya_volya\t9\n"
     ]
    }
   ],
   "source": [
    "#saving result dataset and its count into separate data structure and print the result\n",
    "\n",
    "result_count = int(result.count())\n",
    "result_set = result.collect()\n",
    "\n",
    "for i in range (0,result_count):\n",
    "    print \"%s\\t%d\" % (result_set[i][0], int(result_set[i][1]))"
   ]
  }
 ],
 "metadata": {
  "kernelspec": {
   "display_name": "Python 2",
   "language": "python",
   "name": "python2"
  },
  "language_info": {
   "codemirror_mode": {
    "name": "ipython",
    "version": 2
   },
   "file_extension": ".py",
   "mimetype": "text/x-python",
   "name": "python",
   "nbconvert_exporter": "python",
   "pygments_lexer": "ipython2",
   "version": "2.7.12"
  }
 },
 "nbformat": 4,
 "nbformat_minor": 2
}
