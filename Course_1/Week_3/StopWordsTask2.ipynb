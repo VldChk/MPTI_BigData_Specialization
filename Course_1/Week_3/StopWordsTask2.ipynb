{
 "cells": [
  {
   "cell_type": "markdown",
   "metadata": {
    "colab_type": "text",
    "id": "Xsd0oermS80K"
   },
   "source": [
    "# Hadoop Streaming assignment 2: Stop Words"
   ]
  },
  {
   "cell_type": "markdown",
   "metadata": {
    "colab_type": "text",
    "id": "V_0wfvKjS80L"
   },
   "source": [
    "The purpose of this task is to improve the previous \"Word rating\" program. You have to calculate how many stop words are there in the input dataset. Stop words list is in `/datasets/stop_words_en.txt` file. \n",
    "\n",
    "Use Hadoop counters to compute the number of stop words and total words in the dataset. The result is the percentage of stop words in the entire dataset (without percent symbol).\n",
    "\n",
    "There are several points for this task:\n",
    "\n",
    "1) As an output, you have to get the percentage of stop words in the entire dataset without percent symbol (correct answer on sample dataset is `41.603`).\n",
    "\n",
    "2) As you can see in the Hadoop Streaming userguide \"you will need to use `-files` option to tell the framework to pack your executable files as a part of a job submission.\"\n",
    "\n",
    "3) Do not forget to redirect junk output to `/dev/null`.\n",
    "\n",
    "4) You may modify mappers/reducers from \"Word rating\" task and parse its output to get the answer on \"Stop Words\" task.\n",
    "\n",
    "5) You may use mapper/reducer to get `\"Stop Words\"` and `\"Total Words\"` amounts and redirect them to sys.stderr. After that you may redirect the output of MapReduce to the parsed function. In this function you may find rows correspond to these amounts and compute the percentage.\n",
    "\n",
    "Here you can find the draft for the main steps of the task. You can use other methods to get the solution."
   ]
  },
  {
   "cell_type": "markdown",
   "metadata": {
    "colab_type": "text",
    "id": "EpO7whLNS80M"
   },
   "source": [
    "## Step 1. Create the mapper.\n",
    "\n",
    "<b>Hint:</b> Create the mapper, which calculates Total word and Stop word amounts. You may redirect this information to sys.stderr. This will make it possible to parse these data on the next steps.\n",
    "\n",
    "Example of the redirections:\n",
    "\n",
    "`print >> sys.stderr, \"reporter:counter:Wiki stats,Total words,%d\" % count`\n",
    "\n",
    "Remember about the Distributed cache. If we add option `-files mapper.py,reducer.py,/datasets/stop_words_en.txt`, then `mapper.py, reducer.py` and `stop_words_en.txt` file will be in the same directory on the datanodes. Hence, it is necessary to use a relative path `stop_words_en.txt` from the mapper to access this txt file."
   ]
  },
  {
   "cell_type": "code",
   "execution_count": 26,
   "metadata": {
    "colab": {
     "autoexec": {
      "startup": false,
      "wait_interval": 0
     }
    },
    "colab_type": "code",
    "id": "KU56zkC0S80M"
   },
   "outputs": [
    {
     "name": "stdout",
     "output_type": "stream",
     "text": [
      "Overwriting mapper.py\n"
     ]
    }
   ],
   "source": [
    "%%writefile mapper.py\n",
    "\n",
    "import sys\n",
    "import re\n",
    "\n",
    "reload(sys)\n",
    "sys.setdefaultencoding('utf-8') # required to convert to unicode\n",
    "\n",
    "for line in sys.stdin:\n",
    "    try:\n",
    "        article_id, text = unicode(line.strip()).split('\\t', 1)\n",
    "    except ValueError as e:\n",
    "        continue\n",
    "    text = re.sub(\"^\\W+|\\W+$\", \"\", text, flags=re.UNICODE)\n",
    "    words = re.split(\"\\W*\\s+\\W*\", text, flags=re.UNICODE)\n",
    "    for word in words:\n",
    "#        print >> sys.stderr, \"reporter:counter:Wiki stats,Total words,%d\" % 1\n",
    "        print \"%s\\t%d\" % (word.lower(), 1)"
   ]
  },
  {
   "cell_type": "code",
   "execution_count": 30,
   "metadata": {},
   "outputs": [
    {
     "name": "stdout",
     "output_type": "stream",
     "text": [
      "Writing mapper_cnt.py\n"
     ]
    }
   ],
   "source": [
    "%%writefile mapper_cnt.py\n",
    "\n",
    "import sys\n",
    "import re\n",
    "\n",
    "reload(sys)\n",
    "sys.setdefaultencoding('utf-8') # required to convert to unicode\n",
    "\n",
    "path = 'stop_words_en.txt'\n",
    "\n",
    "def read_stop_words(file_path):\n",
    "    return set(word.strip() for word in open(file_path))\n",
    "\n",
    "stop_words = read_stop_words(path)\n",
    "\n",
    "for line in sys.stdin:\n",
    "    try:\n",
    "        text, count_of_word = unicode(line.strip()).split('\\t', 1)\n",
    "    except ValueError as e:\n",
    "        continue\n",
    "    #print >> sys.stderr, \"reporter:counter:Wiki stats,Total words,%d\" % 1\n",
    "    count_of_word = int(count_of_word)\n",
    "    if text in stop_words:\n",
    "        print >> sys.stderr, \"reporter:counter:Wiki stats,Stop words,%d\" % count_of_word\n",
    "    print >> sys.stderr, \"reporter:counter:Wiki stats,Total words,%d\" % count_of_word\n",
    "    print \"%d\\t%s\" % (count_of_word, text.lower())"
   ]
  },
  {
   "cell_type": "markdown",
   "metadata": {
    "colab_type": "text",
    "id": "-3EM-tBES80O"
   },
   "source": [
    "## Step 2. Create the reducer.\n",
    "\n",
    "Create the reducer, which will accumulate the information after the mapper step. You may implement the combiner if you want. It can be useful from optimizing and speed up your computations (see the lectures from the Week 2 for more details)."
   ]
  },
  {
   "cell_type": "code",
   "execution_count": 27,
   "metadata": {
    "colab": {
     "autoexec": {
      "startup": false,
      "wait_interval": 0
     }
    },
    "colab_type": "code",
    "id": "yslvpwpfS80P"
   },
   "outputs": [
    {
     "name": "stdout",
     "output_type": "stream",
     "text": [
      "Overwriting reducer.py\n"
     ]
    }
   ],
   "source": [
    "%%writefile reducer.py\n",
    "\n",
    "import sys\n",
    "\n",
    "current_key = None\n",
    "word_sum = 0\n",
    "\n",
    "for line in sys.stdin:\n",
    "    try:\n",
    "        key, count = line.strip().split('\\t', 1)\n",
    "        count = int(count)\n",
    "    except ValueError as e:\n",
    "        continue\n",
    "    if current_key != key:\n",
    "        if current_key:\n",
    "            print \"%s\\t%d\" % (current_key, word_sum)\n",
    "        word_sum = 0\n",
    "        current_key = key\n",
    "    word_sum += count\n",
    "\n",
    "if current_key:\n",
    "    print \"%s\\t%d\" % (current_key, word_sum)"
   ]
  },
  {
   "cell_type": "markdown",
   "metadata": {
    "colab_type": "text",
    "id": "MZQKrDecS80Q"
   },
   "source": [
    "## Step 3. Create the parsed function.\n",
    "\n",
    "<b>Hint:</b> Create the function, which will parse MapReduce sys.stderr for Total word and Stop word amounts.\n",
    "\n",
    "The `./counter_process.py` script should do the following:\n",
    "\n",
    "- parse hadoop logs from Stderr,\n",
    "\n",
    "- retrieve values of 2 user-defined counters,\n",
    "\n",
    "- compute percentage and output it into the stdout."
   ]
  },
  {
   "cell_type": "code",
   "execution_count": 37,
   "metadata": {
    "colab": {
     "autoexec": {
      "startup": false,
      "wait_interval": 0
     }
    },
    "colab_type": "code",
    "id": "XptufhbMS80R"
   },
   "outputs": [
    {
     "name": "stdout",
     "output_type": "stream",
     "text": [
      "Overwriting counter_process.py\n"
     ]
    }
   ],
   "source": [
    "%%writefile counter_process.py\n",
    "\n",
    "#! /usr/bin/env python\n",
    "\n",
    "import sys\n",
    "\n",
    "stop_words = 0\n",
    "total_words = 0\n",
    "\n",
    "# Your functions may be here.\n",
    "\n",
    "for line in sys.stdin:\n",
    "    try:\n",
    "        param, num = line.strip().split('=', 1)\n",
    "        num = int(num)\n",
    "    except ValueError as e:\n",
    "        continue\n",
    "    if param == sys.argv[1]:\n",
    "        stop_words = num\n",
    "    elif param == sys.argv[2]:\n",
    "        total_words = num\n",
    "\n",
    "percentage = float(stop_words) / float(total_words) * 100.0\n",
    "print >> sys.stdout, \"%f\" % percentage\n",
    "\n",
    "#if __name__ == '__main__':\n",
    "    #print(percentage)"
   ]
  },
  {
   "cell_type": "code",
   "execution_count": 34,
   "metadata": {},
   "outputs": [
    {
     "name": "stdout",
     "output_type": "stream",
     "text": [
      "Overwriting sorter.py\n"
     ]
    }
   ],
   "source": [
    "%%writefile sorter.py\n",
    "\n",
    "import sys\n",
    "import re\n",
    "\n",
    "reload(sys)\n",
    "sys.setdefaultencoding('utf-8') # required to convert to unicode\n",
    "\n",
    "path = 'stop_words_en.txt'\n",
    "\n",
    "def read_stop_words(file_path):\n",
    "    return set(word.strip() for word in open(file_path))\n",
    "\n",
    "stop_words = read_stop_words(path)\n",
    "\n",
    "for line in sys.stdin:\n",
    "    try:\n",
    "        text, count_of_word = unicode(line.strip()).split('\\t', 1)\n",
    "    except ValueError as e:\n",
    "        continue\n",
    "    count_of_word = int(count_of_word)\n",
    "    if text in stop_words:\n",
    "        print >> sys.stderr, \"reporter:counter:Wiki stats,Stop words,%d\" % count_of_word\n",
    "    print >> sys.stderr, \"reporter:counter:Wiki stats,Total words,%d\" % count_of_word\n",
    "    print \"%d\\t%s\" % (count_of_word, text.lower())"
   ]
  },
  {
   "cell_type": "code",
   "execution_count": 29,
   "metadata": {},
   "outputs": [
    {
     "name": "stdout",
     "output_type": "stream",
     "text": [
      "Writing reducer_step2.py\n"
     ]
    }
   ],
   "source": [
    "%%writefile reducer_step2.py\n",
    "\n",
    "import sys\n",
    "import re\n",
    "\n",
    "reload(sys)\n",
    "sys.setdefaultencoding('utf-8') # required to convert to unicode\n",
    "\n",
    "for line in sys.stdin:\n",
    "    try:\n",
    "        count_of_word, text = unicode(line.strip()).split('\\t', 1)\n",
    "    except ValueError as e:\n",
    "        continue\n",
    "    #print >> sys.stderr, \"reporter:counter:Wiki stats,Total words,%d\" % 1\n",
    "    count_of_word = int(count_of_word)\n",
    "    print \"%s\\t%d\" % (text.lower(), count_of_word)"
   ]
  },
  {
   "cell_type": "markdown",
   "metadata": {
    "colab_type": "text",
    "id": "O_7XrxbKS80S"
   },
   "source": [
    "## Step 4. Bash commands\n",
    "\n",
    "<b> Hints: </b> \n",
    "\n",
    "1) If you want to redirect standard output to txt file you may use the following argument in yarn jar:\n",
    "\n",
    "```\n",
    "yarn ... \\\n",
    "  ... \\\n",
    "  -output ${OUT_DIR} > /dev/null 2> $LOGS\n",
    "```\n",
    "\n",
    "2) For printing the percentage of stop words in the entire dataset you may parse the MapReduce output. Parsed script may be written in Python code. \n",
    "\n",
    "To get the result you may use the UNIX pipe operator `|`. The output of the first command acts as an input to the second command (see lecture file-content-exploration-2 for more details).\n",
    "\n",
    "With this operator you may use command `cat` to redirect the output of MapReduce to ./counter_process.py with arguments, which correspond to the `\"Stop words\"` and `\"Total words\"` counters. Example is the following:\n",
    "\n",
    "`cat $LOGS | python ./counter_process.py \"Stop words\" \"Total words\"`\n",
    "\n",
    "Now something about Hadoop counters naming. \n",
    " - Built-in Hadoop counters usually have UPPER_CASE names. To make the grading system possible to distinguish your custom counters and system ones please use the following pattern for their naming: `[Aa]aaa...` (all except the first letters should be in lowercase);\n",
    " - Another points is how Hadoop sorts the counters. It sorts them lexicographically. Grading system reads your first counter as Stop words counter and the second as Total words. Please name you counters in such way that Hadoop set the Stop words counter before the Total words. \n",
    " \n",
    "E.g. \"Stop words\" and \"Total words\" names are Ok because they correspond both requirements.\n",
    "\n",
    "3) In Python code sys.argv is a list, which contains the command-line arguments passed to the script. The name of the script is in `sys.argv[0]`. Other arguments begin from `sys.argv[1]`.\n",
    "\n",
    "Hence, if you have two arguments, which you send from the Bash to your python script, you may use arguments in your script with the following command:\n",
    "\n",
    "`function(sys.argv[1], sys.argv[2])`\n",
    "\n",
    "4) Do not forget about printing your MapReduce output in the last cell. You may use the next command:\n",
    "\n",
    "`cat $LOGS >&2`"
   ]
  },
  {
   "cell_type": "code",
   "execution_count": 35,
   "metadata": {
    "colab": {
     "autoexec": {
      "startup": false,
      "wait_interval": 0
     }
    },
    "colab_type": "code",
    "id": "bG3omEqzS80S"
   },
   "outputs": [
    {
     "name": "stdout",
     "output_type": "stream",
     "text": [
      "packageJobJar: [/tmp/hadoop-unjar3615214028522468944/] [] /tmp/streamjob7663759360430459158.jar tmpDir=null\n",
      "41.603075464947445\n"
     ]
    },
    {
     "name": "stderr",
     "output_type": "stream",
     "text": [
      "rm: `coursera_mr_task2_step11547931958032207': No such file or directory\n",
      "rm: `coursera_mr_task2_step21547931958034157': No such file or directory\n",
      "rm: `coursera_mr_task21547931958036006': No such file or directory\n",
      "19/01/19 21:06:10 INFO client.RMProxy: Connecting to ResourceManager at /0.0.0.0:8032\n",
      "19/01/19 21:06:10 INFO client.RMProxy: Connecting to ResourceManager at /0.0.0.0:8032\n",
      "19/01/19 21:06:12 INFO mapred.FileInputFormat: Total input files to process : 1\n",
      "19/01/19 21:06:12 INFO mapreduce.JobSubmitter: number of splits:2\n",
      "19/01/19 21:06:13 INFO mapreduce.JobSubmitter: Submitting tokens for job: job_1547919844903_0016\n",
      "19/01/19 21:06:13 INFO impl.YarnClientImpl: Submitted application application_1547919844903_0016\n",
      "19/01/19 21:06:13 INFO mapreduce.Job: The url to track the job: http://cea1d20dca64:8088/proxy/application_1547919844903_0016/\n",
      "19/01/19 21:06:13 INFO mapreduce.Job: Running job: job_1547919844903_0016\n",
      "19/01/19 21:06:25 INFO mapreduce.Job: Job job_1547919844903_0016 running in uber mode : false\n",
      "19/01/19 21:06:25 INFO mapreduce.Job:  map 0% reduce 0%\n",
      "19/01/19 21:06:45 INFO mapreduce.Job:  map 30% reduce 0%\n",
      "19/01/19 21:06:51 INFO mapreduce.Job:  map 42% reduce 0%\n",
      "19/01/19 21:06:57 INFO mapreduce.Job:  map 47% reduce 0%\n",
      "19/01/19 21:07:09 INFO mapreduce.Job:  map 54% reduce 0%\n",
      "19/01/19 21:07:16 INFO mapreduce.Job:  map 67% reduce 0%\n",
      "19/01/19 21:07:24 INFO mapreduce.Job:  map 100% reduce 0%\n",
      "19/01/19 21:07:42 INFO mapreduce.Job:  map 100% reduce 13%\n",
      "19/01/19 21:07:46 INFO mapreduce.Job:  map 100% reduce 25%\n",
      "19/01/19 21:07:50 INFO mapreduce.Job:  map 100% reduce 38%\n",
      "19/01/19 21:07:52 INFO mapreduce.Job:  map 100% reduce 50%\n",
      "19/01/19 21:07:53 INFO mapreduce.Job:  map 100% reduce 63%\n",
      "19/01/19 21:07:54 INFO mapreduce.Job:  map 100% reduce 75%\n",
      "19/01/19 21:07:58 INFO mapreduce.Job:  map 100% reduce 88%\n",
      "19/01/19 21:07:59 INFO mapreduce.Job:  map 100% reduce 100%\n",
      "19/01/19 21:08:00 INFO mapreduce.Job: Job job_1547919844903_0016 completed successfully\n",
      "19/01/19 21:08:00 INFO mapreduce.Job: Counters: 50\n",
      "\tFile System Counters\n",
      "\t\tFILE: Number of bytes read=17941178\n",
      "\t\tFILE: Number of bytes written=28232175\n",
      "\t\tFILE: Number of read operations=0\n",
      "\t\tFILE: Number of large read operations=0\n",
      "\t\tFILE: Number of write operations=0\n",
      "\t\tHDFS: Number of bytes read=76874501\n",
      "\t\tHDFS: Number of bytes written=5363834\n",
      "\t\tHDFS: Number of read operations=30\n",
      "\t\tHDFS: Number of large read operations=0\n",
      "\t\tHDFS: Number of write operations=16\n",
      "\tJob Counters \n",
      "\t\tKilled reduce tasks=1\n",
      "\t\tLaunched map tasks=2\n",
      "\t\tLaunched reduce tasks=9\n",
      "\t\tData-local map tasks=2\n",
      "\t\tTotal time spent by all maps in occupied slots (ms)=112706\n",
      "\t\tTotal time spent by all reduces in occupied slots (ms)=155246\n",
      "\t\tTotal time spent by all map tasks (ms)=112706\n",
      "\t\tTotal time spent by all reduce tasks (ms)=155246\n",
      "\t\tTotal vcore-milliseconds taken by all map tasks=112706\n",
      "\t\tTotal vcore-milliseconds taken by all reduce tasks=155246\n",
      "\t\tTotal megabyte-milliseconds taken by all map tasks=115410944\n",
      "\t\tTotal megabyte-milliseconds taken by all reduce tasks=158971904\n",
      "\tMap-Reduce Framework\n",
      "\t\tMap input records=4100\n",
      "\t\tMap output records=11937317\n",
      "\t\tMap output bytes=97841276\n",
      "\t\tMap output materialized bytes=8944117\n",
      "\t\tInput split bytes=228\n",
      "\t\tCombine input records=11937317\n",
      "\t\tCombine output records=639325\n",
      "\t\tReduce input groups=426552\n",
      "\t\tReduce shuffle bytes=8944117\n",
      "\t\tReduce input records=639325\n",
      "\t\tReduce output records=426552\n",
      "\t\tSpilled Records=1917975\n",
      "\t\tShuffled Maps =16\n",
      "\t\tFailed Shuffles=0\n",
      "\t\tMerged Map outputs=16\n",
      "\t\tGC time elapsed (ms)=3413\n",
      "\t\tCPU time spent (ms)=123580\n",
      "\t\tPhysical memory (bytes) snapshot=1951866880\n",
      "\t\tVirtual memory (bytes) snapshot=19163529216\n",
      "\t\tTotal committed heap usage (bytes)=1318584320\n",
      "\tShuffle Errors\n",
      "\t\tBAD_ID=0\n",
      "\t\tCONNECTION=0\n",
      "\t\tIO_ERROR=0\n",
      "\t\tWRONG_LENGTH=0\n",
      "\t\tWRONG_MAP=0\n",
      "\t\tWRONG_REDUCE=0\n",
      "\tFile Input Format Counters \n",
      "\t\tBytes Read=76874273\n",
      "\tFile Output Format Counters \n",
      "\t\tBytes Written=5363834\n",
      "19/01/19 21:08:00 INFO streaming.StreamJob: Output directory: coursera_mr_task2_step11547931958032207\n",
      "19/01/19 21:08:04 INFO client.RMProxy: Connecting to ResourceManager at /0.0.0.0:8032\n",
      "19/01/19 21:08:04 INFO client.RMProxy: Connecting to ResourceManager at /0.0.0.0:8032\n",
      "19/01/19 21:08:05 INFO mapred.FileInputFormat: Total input files to process : 8\n",
      "19/01/19 21:08:06 INFO mapreduce.JobSubmitter: number of splits:8\n",
      "19/01/19 21:08:06 INFO mapreduce.JobSubmitter: Submitting tokens for job: job_1547919844903_0017\n",
      "19/01/19 21:08:07 INFO impl.YarnClientImpl: Submitted application application_1547919844903_0017\n",
      "19/01/19 21:08:07 INFO mapreduce.Job: The url to track the job: http://cea1d20dca64:8088/proxy/application_1547919844903_0017/\n",
      "19/01/19 21:08:07 INFO mapreduce.Job: Running job: job_1547919844903_0017\n",
      "19/01/19 21:08:17 INFO mapreduce.Job: Job job_1547919844903_0017 running in uber mode : false\n",
      "19/01/19 21:08:17 INFO mapreduce.Job:  map 0% reduce 0%\n",
      "19/01/19 21:10:17 INFO mapreduce.Job:  map 13% reduce 0%\n",
      "19/01/19 21:10:19 INFO mapreduce.Job: Task Id : attempt_1547919844903_0017_m_000001_0, Status : FAILED\n",
      "Container [pid=16401,containerID=container_1547919844903_0017_01_000003] is running beyond virtual memory limits. Current usage: 479.9 MB of 1 GB physical memory used; 3.5 GB of 2.1 GB virtual memory used. Killing container.\n",
      "Dump of the process-tree for container_1547919844903_0017_01_000003 :\n",
      "\t|- PID PPID PGRPID SESSID CMD_NAME USER_MODE_TIME(MILLIS) SYSTEM_TIME(MILLIS) VMEM_USAGE(BYTES) RSSMEM_USAGE(PAGES) FULL_CMD_LINE\n",
      "\t|- 16401 16385 16401 16401 (bash) 0 0 11550720 137 /bin/bash -c /opt/jdk/bin/java -Djava.net.preferIPv4Stack=true -Dhadoop.metrics.log.level=WARN  -Xmx200m -Djava.io.tmpdir=/tmp/hadoop-root/nm-local-dir/usercache/jovyan/appcache/application_1547919844903_0017/container_1547919844903_0017_01_000003/tmp -Dlog4j.configuration=container-log4j.properties -Dyarn.app.container.log.dir=/opt/hadoop/logs/userlogs/application_1547919844903_0017/container_1547919844903_0017_01_000003 -Dyarn.app.container.log.filesize=0 -Dhadoop.root.logger=INFO,CLA -Dhadoop.root.logfile=syslog org.apache.hadoop.mapred.YarnChild 172.17.0.2 34759 attempt_1547919844903_0017_m_000001_0 3 1>/opt/hadoop/logs/userlogs/application_1547919844903_0017/container_1547919844903_0017_01_000003/stdout 2>/opt/hadoop/logs/userlogs/application_1547919844903_0017/container_1547919844903_0017_01_000003/stderr  \n",
      "\t|- 16423 16401 16401 16401 (java) 907 70 1895501824 61353 /opt/jdk/bin/java -Djava.net.preferIPv4Stack=true -Dhadoop.metrics.log.level=WARN -Xmx200m -Djava.io.tmpdir=/tmp/hadoop-root/nm-local-dir/usercache/jovyan/appcache/application_1547919844903_0017/container_1547919844903_0017_01_000003/tmp -Dlog4j.configuration=container-log4j.properties -Dyarn.app.container.log.dir=/opt/hadoop/logs/userlogs/application_1547919844903_0017/container_1547919844903_0017_01_000003 -Dyarn.app.container.log.filesize=0 -Dhadoop.root.logger=INFO,CLA -Dhadoop.root.logfile=syslog org.apache.hadoop.mapred.YarnChild 172.17.0.2 34759 attempt_1547919844903_0017_m_000001_0 3 \n",
      "\t|- 16616 16423 16401 16401 (java) 0 1 1895501824 61353 /opt/jdk/bin/java -Djava.net.preferIPv4Stack=true -Dhadoop.metrics.log.level=WARN -Xmx200m -Djava.io.tmpdir=/tmp/hadoop-root/nm-local-dir/usercache/jovyan/appcache/application_1547919844903_0017/container_1547919844903_0017_01_000003/tmp -Dlog4j.configuration=container-log4j.properties -Dyarn.app.container.log.dir=/opt/hadoop/logs/userlogs/application_1547919844903_0017/container_1547919844903_0017_01_000003 -Dyarn.app.container.log.filesize=0 -Dhadoop.root.logger=INFO,CLA -Dhadoop.root.logfile=syslog org.apache.hadoop.mapred.YarnChild 172.17.0.2 34759 attempt_1547919844903_0017_m_000001_0 3 \n",
      "\n",
      "Container killed on request. Exit code is 143\n",
      "Container exited with a non-zero exit code 143\n",
      "\n",
      "19/01/19 21:10:19 INFO mapreduce.Job: Task Id : attempt_1547919844903_0017_m_000003_0, Status : FAILED\n",
      "Container [pid=16370,containerID=container_1547919844903_0017_01_000005] is running beyond virtual memory limits. Current usage: 479.4 MB of 1 GB physical memory used; 3.5 GB of 2.1 GB virtual memory used. Killing container.\n",
      "Dump of the process-tree for container_1547919844903_0017_01_000005 :\n",
      "\t|- PID PPID PGRPID SESSID CMD_NAME USER_MODE_TIME(MILLIS) SYSTEM_TIME(MILLIS) VMEM_USAGE(BYTES) RSSMEM_USAGE(PAGES) FULL_CMD_LINE\n",
      "\t|- 16403 16370 16370 16370 (java) 942 69 1897467904 61292 /opt/jdk/bin/java -Djava.net.preferIPv4Stack=true -Dhadoop.metrics.log.level=WARN -Xmx200m -Djava.io.tmpdir=/tmp/hadoop-root/nm-local-dir/usercache/jovyan/appcache/application_1547919844903_0017/container_1547919844903_0017_01_000005/tmp -Dlog4j.configuration=container-log4j.properties -Dyarn.app.container.log.dir=/opt/hadoop/logs/userlogs/application_1547919844903_0017/container_1547919844903_0017_01_000005 -Dyarn.app.container.log.filesize=0 -Dhadoop.root.logger=INFO,CLA -Dhadoop.root.logfile=syslog org.apache.hadoop.mapred.YarnChild 172.17.0.2 34759 attempt_1547919844903_0017_m_000003_0 5 \n",
      "\t|- 16632 16403 16370 16370 (java) 0 0 1897467904 61292 /usr/bin/python sorter.py \n",
      "\t|- 16370 16360 16370 16370 (bash) 1 0 11550720 132 /bin/bash -c /opt/jdk/bin/java -Djava.net.preferIPv4Stack=true -Dhadoop.metrics.log.level=WARN  -Xmx200m -Djava.io.tmpdir=/tmp/hadoop-root/nm-local-dir/usercache/jovyan/appcache/application_1547919844903_0017/container_1547919844903_0017_01_000005/tmp -Dlog4j.configuration=container-log4j.properties -Dyarn.app.container.log.dir=/opt/hadoop/logs/userlogs/application_1547919844903_0017/container_1547919844903_0017_01_000005 -Dyarn.app.container.log.filesize=0 -Dhadoop.root.logger=INFO,CLA -Dhadoop.root.logfile=syslog org.apache.hadoop.mapred.YarnChild 172.17.0.2 34759 attempt_1547919844903_0017_m_000003_0 5 1>/opt/hadoop/logs/userlogs/application_1547919844903_0017/container_1547919844903_0017_01_000005/stdout 2>/opt/hadoop/logs/userlogs/application_1547919844903_0017/container_1547919844903_0017_01_000005/stderr  \n",
      "\n",
      "Container killed on request. Exit code is 143\n",
      "Container exited with a non-zero exit code 143\n",
      "\n",
      "19/01/19 21:10:19 INFO mapreduce.Job: Task Id : attempt_1547919844903_0017_m_000002_0, Status : FAILED\n",
      "Container [pid=16392,containerID=container_1547919844903_0017_01_000004] is running beyond virtual memory limits. Current usage: 484.2 MB of 1 GB physical memory used; 3.5 GB of 2.1 GB virtual memory used. Killing container.\n",
      "Dump of the process-tree for container_1547919844903_0017_01_000004 :\n",
      "\t|- PID PPID PGRPID SESSID CMD_NAME USER_MODE_TIME(MILLIS) SYSTEM_TIME(MILLIS) VMEM_USAGE(BYTES) RSSMEM_USAGE(PAGES) FULL_CMD_LINE\n",
      "\t|- 16425 16392 16392 16392 (java) 934 62 1896136704 61906 /opt/jdk/bin/java -Djava.net.preferIPv4Stack=true -Dhadoop.metrics.log.level=WARN -Xmx200m -Djava.io.tmpdir=/tmp/hadoop-root/nm-local-dir/usercache/jovyan/appcache/application_1547919844903_0017/container_1547919844903_0017_01_000004/tmp -Dlog4j.configuration=container-log4j.properties -Dyarn.app.container.log.dir=/opt/hadoop/logs/userlogs/application_1547919844903_0017/container_1547919844903_0017_01_000004 -Dyarn.app.container.log.filesize=0 -Dhadoop.root.logger=INFO,CLA -Dhadoop.root.logfile=syslog org.apache.hadoop.mapred.YarnChild 172.17.0.2 34759 attempt_1547919844903_0017_m_000002_0 4 \n",
      "\t|- 16601 16425 16392 16392 (java) 0 0 1896136704 61906 /opt/jdk/bin/java -Djava.net.preferIPv4Stack=true -Dhadoop.metrics.log.level=WARN -Xmx200m -Djava.io.tmpdir=/tmp/hadoop-root/nm-local-dir/usercache/jovyan/appcache/application_1547919844903_0017/container_1547919844903_0017_01_000004/tmp -Dlog4j.configuration=container-log4j.properties -Dyarn.app.container.log.dir=/opt/hadoop/logs/userlogs/application_1547919844903_0017/container_1547919844903_0017_01_000004 -Dyarn.app.container.log.filesize=0 -Dhadoop.root.logger=INFO,CLA -Dhadoop.root.logfile=syslog org.apache.hadoop.mapred.YarnChild 172.17.0.2 34759 attempt_1547919844903_0017_m_000002_0 4 \n",
      "\t|- 16392 16381 16392 16392 (bash) 0 0 11550720 140 /bin/bash -c /opt/jdk/bin/java -Djava.net.preferIPv4Stack=true -Dhadoop.metrics.log.level=WARN  -Xmx200m -Djava.io.tmpdir=/tmp/hadoop-root/nm-local-dir/usercache/jovyan/appcache/application_1547919844903_0017/container_1547919844903_0017_01_000004/tmp -Dlog4j.configuration=container-log4j.properties -Dyarn.app.container.log.dir=/opt/hadoop/logs/userlogs/application_1547919844903_0017/container_1547919844903_0017_01_000004 -Dyarn.app.container.log.filesize=0 -Dhadoop.root.logger=INFO,CLA -Dhadoop.root.logfile=syslog org.apache.hadoop.mapred.YarnChild 172.17.0.2 34759 attempt_1547919844903_0017_m_000002_0 4 1>/opt/hadoop/logs/userlogs/application_1547919844903_0017/container_1547919844903_0017_01_000004/stdout 2>/opt/hadoop/logs/userlogs/application_1547919844903_0017/container_1547919844903_0017_01_000004/stderr  \n",
      "\n",
      "Container killed on request. Exit code is 143\n",
      "Container exited with a non-zero exit code 143\n",
      "\n",
      "19/01/19 21:10:19 INFO mapreduce.Job: Task Id : attempt_1547919844903_0017_m_000005_0, Status : FAILED\n",
      "Container [pid=16357,containerID=container_1547919844903_0017_01_000007] is running beyond virtual memory limits. Current usage: 482.0 MB of 1 GB physical memory used; 3.5 GB of 2.1 GB virtual memory used. Killing container.\n",
      "Dump of the process-tree for container_1547919844903_0017_01_000007 :\n",
      "\t|- PID PPID PGRPID SESSID CMD_NAME USER_MODE_TIME(MILLIS) SYSTEM_TIME(MILLIS) VMEM_USAGE(BYTES) RSSMEM_USAGE(PAGES) FULL_CMD_LINE\n",
      "\t|- 16592 16377 16357 16357 (java) 0 1 1895342080 61617 /opt/jdk/bin/java -Djava.net.preferIPv4Stack=true -Dhadoop.metrics.log.level=WARN -Xmx200m -Djava.io.tmpdir=/tmp/hadoop-root/nm-local-dir/usercache/jovyan/appcache/application_1547919844903_0017/container_1547919844903_0017_01_000007/tmp -Dlog4j.configuration=container-log4j.properties -Dyarn.app.container.log.dir=/opt/hadoop/logs/userlogs/application_1547919844903_0017/container_1547919844903_0017_01_000007 -Dyarn.app.container.log.filesize=0 -Dhadoop.root.logger=INFO,CLA -Dhadoop.root.logfile=syslog org.apache.hadoop.mapred.YarnChild 172.17.0.2 34759 attempt_1547919844903_0017_m_000005_0 7 \n",
      "\t|- 16377 16357 16357 16357 (java) 901 61 1895342080 61617 /opt/jdk/bin/java -Djava.net.preferIPv4Stack=true -Dhadoop.metrics.log.level=WARN -Xmx200m -Djava.io.tmpdir=/tmp/hadoop-root/nm-local-dir/usercache/jovyan/appcache/application_1547919844903_0017/container_1547919844903_0017_01_000007/tmp -Dlog4j.configuration=container-log4j.properties -Dyarn.app.container.log.dir=/opt/hadoop/logs/userlogs/application_1547919844903_0017/container_1547919844903_0017_01_000007 -Dyarn.app.container.log.filesize=0 -Dhadoop.root.logger=INFO,CLA -Dhadoop.root.logfile=syslog org.apache.hadoop.mapred.YarnChild 172.17.0.2 34759 attempt_1547919844903_0017_m_000005_0 7 \n",
      "\t|- 16357 16355 16357 16357 (bash) 0 0 11550720 152 /bin/bash -c /opt/jdk/bin/java -Djava.net.preferIPv4Stack=true -Dhadoop.metrics.log.level=WARN  -Xmx200m -Djava.io.tmpdir=/tmp/hadoop-root/nm-local-dir/usercache/jovyan/appcache/application_1547919844903_0017/container_1547919844903_0017_01_000007/tmp -Dlog4j.configuration=container-log4j.properties -Dyarn.app.container.log.dir=/opt/hadoop/logs/userlogs/application_1547919844903_0017/container_1547919844903_0017_01_000007 -Dyarn.app.container.log.filesize=0 -Dhadoop.root.logger=INFO,CLA -Dhadoop.root.logfile=syslog org.apache.hadoop.mapred.YarnChild 172.17.0.2 34759 attempt_1547919844903_0017_m_000005_0 7 1>/opt/hadoop/logs/userlogs/application_1547919844903_0017/container_1547919844903_0017_01_000007/stdout 2>/opt/hadoop/logs/userlogs/application_1547919844903_0017/container_1547919844903_0017_01_000007/stderr  \n",
      "\n",
      "Container killed on request. Exit code is 143\n",
      "Container exited with a non-zero exit code 143\n",
      "\n",
      "19/01/19 21:10:19 INFO mapreduce.Job: Task Id : attempt_1547919844903_0017_m_000004_0, Status : FAILED\n",
      "Container [pid=16353,containerID=container_1547919844903_0017_01_000006] is running beyond virtual memory limits. Current usage: 480.1 MB of 1 GB physical memory used; 3.5 GB of 2.1 GB virtual memory used. Killing container.\n",
      "Dump of the process-tree for container_1547919844903_0017_01_000006 :\n",
      "\t|- PID PPID PGRPID SESSID CMD_NAME USER_MODE_TIME(MILLIS) SYSTEM_TIME(MILLIS) VMEM_USAGE(BYTES) RSSMEM_USAGE(PAGES) FULL_CMD_LINE\n",
      "\t|- 16366 16353 16353 16353 (java) 915 70 1896034304 61387 /opt/jdk/bin/java -Djava.net.preferIPv4Stack=true -Dhadoop.metrics.log.level=WARN -Xmx200m -Djava.io.tmpdir=/tmp/hadoop-root/nm-local-dir/usercache/jovyan/appcache/application_1547919844903_0017/container_1547919844903_0017_01_000006/tmp -Dlog4j.configuration=container-log4j.properties -Dyarn.app.container.log.dir=/opt/hadoop/logs/userlogs/application_1547919844903_0017/container_1547919844903_0017_01_000006 -Dyarn.app.container.log.filesize=0 -Dhadoop.root.logger=INFO,CLA -Dhadoop.root.logfile=syslog org.apache.hadoop.mapred.YarnChild 172.17.0.2 34759 attempt_1547919844903_0017_m_000004_0 6 \n",
      "\t|- 16353 16351 16353 16353 (bash) 0 1 11550720 131 /bin/bash -c /opt/jdk/bin/java -Djava.net.preferIPv4Stack=true -Dhadoop.metrics.log.level=WARN  -Xmx200m -Djava.io.tmpdir=/tmp/hadoop-root/nm-local-dir/usercache/jovyan/appcache/application_1547919844903_0017/container_1547919844903_0017_01_000006/tmp -Dlog4j.configuration=container-log4j.properties -Dyarn.app.container.log.dir=/opt/hadoop/logs/userlogs/application_1547919844903_0017/container_1547919844903_0017_01_000006 -Dyarn.app.container.log.filesize=0 -Dhadoop.root.logger=INFO,CLA -Dhadoop.root.logfile=syslog org.apache.hadoop.mapred.YarnChild 172.17.0.2 34759 attempt_1547919844903_0017_m_000004_0 6 1>/opt/hadoop/logs/userlogs/application_1547919844903_0017/container_1547919844903_0017_01_000006/stdout 2>/opt/hadoop/logs/userlogs/application_1547919844903_0017/container_1547919844903_0017_01_000006/stderr  \n",
      "\t|- 16611 16366 16353 16353 (java) 0 0 1896034304 61387 /opt/jdk/bin/java -Djava.net.preferIPv4Stack=true -Dhadoop.metrics.log.level=WARN -Xmx200m -Djava.io.tmpdir=/tmp/hadoop-root/nm-local-dir/usercache/jovyan/appcache/application_1547919844903_0017/container_1547919844903_0017_01_000006/tmp -Dlog4j.configuration=container-log4j.properties -Dyarn.app.container.log.dir=/opt/hadoop/logs/userlogs/application_1547919844903_0017/container_1547919844903_0017_01_000006 -Dyarn.app.container.log.filesize=0 -Dhadoop.root.logger=INFO,CLA -Dhadoop.root.logfile=syslog org.apache.hadoop.mapred.YarnChild 172.17.0.2 34759 attempt_1547919844903_0017_m_000004_0 6 \n",
      "\n",
      "Container killed on request. Exit code is 143\n",
      "Container exited with a non-zero exit code 143\n",
      "\n",
      "19/01/19 21:11:25 INFO mapreduce.Job:  map 17% reduce 0%\n",
      "19/01/19 21:11:30 INFO mapreduce.Job:  map 32% reduce 0%\n",
      "19/01/19 21:11:36 INFO mapreduce.Job:  map 42% reduce 0%\n",
      "19/01/19 21:11:38 INFO mapreduce.Job:  map 63% reduce 0%\n",
      "19/01/19 21:11:43 INFO mapreduce.Job:  map 75% reduce 0%\n",
      "19/01/19 21:11:44 INFO mapreduce.Job:  map 83% reduce 0%\n",
      "19/01/19 21:11:47 INFO mapreduce.Job:  map 88% reduce 0%\n",
      "19/01/19 21:12:31 INFO mapreduce.Job:  map 100% reduce 0%\n",
      "19/01/19 21:12:34 INFO mapreduce.Job:  map 100% reduce 100%\n",
      "19/01/19 21:12:36 INFO mapreduce.Job: Job job_1547919844903_0017 completed successfully\n",
      "19/01/19 21:12:36 INFO mapreduce.Job: Counters: 54\n",
      "\tFile System Counters\n",
      "\t\tFILE: Number of bytes read=6216963\n",
      "\t\tFILE: Number of bytes written=13688891\n",
      "\t\tFILE: Number of read operations=0\n",
      "\t\tFILE: Number of large read operations=0\n",
      "\t\tFILE: Number of write operations=0\n",
      "\t\tHDFS: Number of bytes read=5364922\n",
      "\t\tHDFS: Number of bytes written=5363834\n",
      "\t\tHDFS: Number of read operations=27\n",
      "\t\tHDFS: Number of large read operations=0\n",
      "\t\tHDFS: Number of write operations=2\n",
      "\tJob Counters \n",
      "\t\tFailed map tasks=5\n",
      "\t\tKilled map tasks=1\n",
      "\t\tLaunched map tasks=14\n",
      "\t\tLaunched reduce tasks=1\n",
      "\t\tOther local map tasks=6\n",
      "\t\tData-local map tasks=8\n",
      "\t\tTotal time spent by all maps in occupied slots (ms)=1246720\n",
      "\t\tTotal time spent by all reduces in occupied slots (ms)=28237\n",
      "\t\tTotal time spent by all map tasks (ms)=1246720\n",
      "\t\tTotal time spent by all reduce tasks (ms)=28237\n",
      "\t\tTotal vcore-milliseconds taken by all map tasks=1246720\n",
      "\t\tTotal vcore-milliseconds taken by all reduce tasks=28237\n",
      "\t\tTotal megabyte-milliseconds taken by all map tasks=1276641280\n",
      "\t\tTotal megabyte-milliseconds taken by all reduce tasks=28914688\n",
      "\tMap-Reduce Framework\n",
      "\t\tMap input records=426552\n",
      "\t\tMap output records=426552\n",
      "\t\tMap output bytes=5363843\n",
      "\t\tMap output materialized bytes=6217005\n",
      "\t\tInput split bytes=1088\n",
      "\t\tCombine input records=0\n",
      "\t\tCombine output records=0\n",
      "\t\tReduce input groups=2048\n",
      "\t\tReduce shuffle bytes=6217005\n",
      "\t\tReduce input records=426552\n",
      "\t\tReduce output records=426552\n",
      "\t\tSpilled Records=853104\n",
      "\t\tShuffled Maps =8\n",
      "\t\tFailed Shuffles=0\n",
      "\t\tMerged Map outputs=8\n",
      "\t\tGC time elapsed (ms)=6374\n",
      "\t\tCPU time spent (ms)=35960\n",
      "\t\tPhysical memory (bytes) snapshot=2200391680\n",
      "\t\tVirtual memory (bytes) snapshot=17182572544\n",
      "\t\tTotal committed heap usage (bytes)=1690304512\n",
      "\tShuffle Errors\n",
      "\t\tBAD_ID=0\n",
      "\t\tCONNECTION=0\n",
      "\t\tIO_ERROR=0\n",
      "\t\tWRONG_LENGTH=0\n",
      "\t\tWRONG_MAP=0\n",
      "\t\tWRONG_REDUCE=0\n",
      "\tWiki stats\n",
      "\t\tStop words=4966291\n",
      "\t\tTotal words=11937317\n",
      "\tFile Input Format Counters \n",
      "\t\tBytes Read=5363834\n",
      "\tFile Output Format Counters \n",
      "\t\tBytes Written=5363834\n",
      "19/01/19 21:12:36 INFO streaming.StreamJob: Output directory: coursera_mr_task2_step21547931958034157\n"
     ]
    }
   ],
   "source": [
    "%%bash\n",
    "\n",
    "INPUT_DIR=\"coursera_mr_task2_step1\"$(date +\"%s%6N\")\n",
    "MID_DIR=\"coursera_mr_task2_step2\"$(date +\"%s%6N\")\n",
    "OUT_DIR=\"coursera_mr_task2\"$(date +\"%s%6N\")\n",
    "NUM_REDUCERS=8\n",
    "LOGS=\"stderr_logs.txt\"\n",
    "\n",
    "hdfs dfs -rm -r -skipTrash ${INPUT_DIR} > /dev/null\n",
    "hdfs dfs -rm -r -skipTrash ${MID_DIR} > /dev/null\n",
    "hdfs dfs -rm -r -skipTrash ${OUT_DIR} > /dev/null\n",
    "\n",
    "yarn jar /opt/cloudera/parcels/CDH/lib/hadoop-mapreduce/hadoop-streaming.jar \\\n",
    "    -D mapred.jab.name=\"Streaming wordCount\" \\\n",
    "    -D mapreduce.job.reduces=$NUM_REDUCERS \\\n",
    "    -files mapper.py,reducer.py \\\n",
    "    -mapper \"python mapper.py\" \\\n",
    "    -combiner \"python reducer.py\" \\\n",
    "    -reducer \"python reducer.py\" \\\n",
    "    -input /data/wiki/en_articles_part \\\n",
    "    -output ${INPUT_DIR} > /dev/null\n",
    "\n",
    "yarn jar /opt/cloudera/parcels/CDH/lib/hadoop-mapreduce/hadoop-streaming.jar \\\n",
    "    -D mapred.jab.name=\"Streaming wordCount\" \\\n",
    "    -D mapreduce.job.reduces=1 \\\n",
    "    -D mapreduce.job.output.key.comparator.class=org.apache.hadoop.mapreduce.lib.partition.KeyFieldBasedComparator \\\n",
    "    -D map.output.key.field.separator \\\n",
    "    -D mapreduce.partition.keycomparator.options=-k1nr \\\n",
    "    -files sorter.py,/datasets/stop_words_en.txt \\\n",
    "    -mapper \"python sorter.py\" \\\n",
    "    -input ${INPUT_DIR} \\\n",
    "    -output ${MID_DIR} > /dev/null 2> $LOGS\n",
    "\n",
    "#yarn jar /opt/cloudera/parcels/CDH/lib/hadoop-mapreduce/hadoop-streaming.jar \\\n",
    "#    -D mapred.jab.name=\"Streaming wordCount\" \\\n",
    "#    -D mapreduce.job.reduces=1 \\\n",
    "#    -files mapper_cnt.py,/datasets/stop_words_en.txt \\\n",
    "#    -mapper \"python mapper_cnt.py\" \\\n",
    "#    -input ${MID_DIR} \\\n",
    "#    -output ${OUT_DIR} > /dev/null 2> $LOGS\n",
    "    \n",
    "cat $LOGS | python ./counter_process.py \"Stop words\" \"Total words\"\n",
    "cat $LOGS >&2\n",
    "\n",
    "#hdfs dfs -rm -r -skipTrash ${INPUT_DIR} > /dev/null\n",
    "#hdfs dfs -rm -r -skipTrash ${MID_DIR} > /dev/null\n",
    "#hdfs dfs -rm -r -skipTrash ${OUT_DIR} > /dev/null\n"
   ]
  },
  {
   "cell_type": "code",
   "execution_count": null,
   "metadata": {},
   "outputs": [],
   "source": []
  }
 ],
 "metadata": {
  "colab": {
   "collapsed_sections": [],
   "default_view": {},
   "name": "702_to_students.ipynb",
   "provenance": [],
   "version": "0.3.2",
   "views": {}
  },
  "kernelspec": {
   "display_name": "Python 2",
   "language": "python",
   "name": "python2"
  },
  "language_info": {
   "codemirror_mode": {
    "name": "ipython",
    "version": 2
   },
   "file_extension": ".py",
   "mimetype": "text/x-python",
   "name": "python",
   "nbconvert_exporter": "python",
   "pygments_lexer": "ipython2",
   "version": "2.7.12"
  }
 },
 "nbformat": 4,
 "nbformat_minor": 1
}
